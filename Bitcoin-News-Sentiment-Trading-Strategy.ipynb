# ────────────────────────────────────────────────
# STEP 1: Install Packages & Import Libraries
# ────────────────────────────────────────────────
!pip install yfinance --quiet
!pip install nltk --quiet

import pandas as pd
import yfinance as yf
import matplotlib.pyplot as plt
from nltk.sentiment.vader import SentimentIntensityAnalyzer
import nltk
from io import StringIO

nltk.download('vader_lexicon')

# ────────────────────────────────────────────────
# STEP 2: Embedded News Dataset
# ────────────────────────────────────────────────

csv_data = """
date,headline
2022-02-24,Bitcoin falls sharply as Russia launches invasion of Ukraine
2022-02-25,Investors seek safe havens amid geopolitical turmoil
2022-02-26,Crypto markets recover slightly after panic sell-off
2022-02-27,BTC shows strength as buyers return at key support
2022-02-28,Bitcoin edges higher despite global uncertainty
2022-03-01,Market cheers Fed's measured tone on rate hikes
2022-03-02,BTC drops amid concerns over oil price surge
2022-03-03,Traders expect increased volatility due to war tension
2022-03-04,Bitcoin hits resistance near 45k
2022-03-05,Strong buying seen after Elon Musk tweets about Dogecoin
2022-03-06,Crypto sentiment mixed as markets await US jobs data
2022-03-07,Bitcoin dips as traders lock in profits
2022-03-08,Ukraine receives over $50M in crypto donations
2022-03-09,Bitcoin spikes as risk appetite returns
2022-03-10,Crypto tumbles after inflation numbers beat forecasts
2022-03-11,BTC rebounds as investors eye relief rally
2022-03-12,Traders cautious amid weekend low volume
2022-03-13,Positive signs for crypto adoption in Asia
2022-03-14,Bitcoin trades flat ahead of Fed meeting
2022-03-15,BTC jumps after dovish Fed statement
"""

df = pd.read_csv(StringIO(csv_data), parse_dates=['date'])

# ────────────────────────────────────────────────
# STEP 3: Sentiment Analysis
# ────────────────────────────────────────────────

sia = SentimentIntensityAnalyzer()
df['sentiment'] = df['headline'].apply(lambda x: sia.polarity_scores(x)['compound'])

# ────────────────────────────────────────────────
# STEP 4: Download & Prepare BTC Data
# ────────────────────────────────────────────────

btc = yf.download("BTC-USD", start="2022-02-23", end="2022-03-20", auto_adjust=True)

# Flatten column names if MultiIndex
if isinstance(btc.columns, pd.MultiIndex):
    btc.columns = ['_'.join(col).strip() for col in btc.columns.values]

# Find close price column
close_col = next((col for col in btc.columns if "close" in col.lower()), "Close")
btc = btc[[close_col]].copy()
btc.rename(columns={close_col: "Close"}, inplace=True)
btc.reset_index(inplace=True)
btc.rename(columns={btc.columns[0]: "date"}, inplace=True)

# ────────────────────────────────────────────────
# STEP 5: Merge & Process
# ────────────────────────────────────────────────

merged = pd.merge(btc, df, on='date', how='left')
merged['sentiment'] = merged['sentiment'].fillna(method='ffill')
merged.dropna(inplace=True)

# ────────────────────────────────────────────────
# STEP 6: Signal Generation
# ────────────────────────────────────────────────

def generate_signal(score):
    if score >= 0.2:
        return 1
    elif score <= -0.2:
        return -1
    else:
        return 0

merged['signal'] = merged['sentiment'].apply(generate_signal)

# ────────────────────────────────────────────────
# STEP 7: Strategy Logic
# ────────────────────────────────────────────────

merged['next_close'] = merged['Close'].shift(-1)
merged['price_return'] = (merged['next_close'] - merged['Close']) / merged['Close']
merged['strategy_return'] = merged['signal'] * merged['price_return']
merged['cumulative_return'] = (1 + merged['strategy_return']).cumprod()

# ────────────────────────────────────────────────
# STEP 8: Strategy Charts
# ────────────────────────────────────────────────

plt.figure(figsize=(10, 5))
plt.plot(merged['date'], merged['cumulative_return'], color='green', label='Strategy Return')
plt.title("📈 Cumulative Return of Sentiment-Based BTC Strategy")
plt.xlabel("Date")
plt.ylabel("Cumulative Return")
plt.grid(True)
plt.legend()
plt.tight_layout()
plt.show()

# Buy/Sell signal overlay on BTC price
buy_signals = merged[merged['signal'] == 1]
sell_signals = merged[merged['signal'] == -1]

plt.figure(figsize=(12, 6))
plt.plot(merged['date'], merged['Close'], label='BTC Price', color='black')
plt.scatter(buy_signals['date'], buy_signals['Close'], marker='^', color='green', label='Buy Signal', s=100)
plt.scatter(sell_signals['date'], sell_signals['Close'], marker='v', color='red', label='Sell Signal', s=100)
plt.title("BTC Price with Sentiment-Based Buy/Sell Signals")
plt.xlabel("Date")
plt.ylabel("BTC Price (USD)")
plt.legend()
plt.grid(True)
plt.tight_layout()
plt.show()

# ────────────────────────────────────────────────
# STEP 9: Trade Log Table
# ────────────────────────────────────────────────

report = merged[['date', 'Close', 'signal', 'price_return', 'strategy_return']].copy()
report = report[report['signal'] != 0]
report['Action'] = report['signal'].map({1: 'Buy', -1: 'Sell'})
report['Profit/Loss (%)'] = report['strategy_return'] * 100
report = report[['date', 'Action', 'Close', 'Profit/Loss (%)']]
display(report)

# ────────────────────────────────────────────────
# STEP 10: Performance Summary
# ────────────────────────────────────────────────

roi = merged['cumulative_return'].iloc[-1] - 1
win_rate = (merged['strategy_return'] > 0).sum() / merged['signal'].abs().sum()
avg_profit = merged['strategy_return'][merged['strategy_return'] > 0].mean()
avg_loss = merged['strategy_return'][merged['strategy_return'] < 0].mean()
volatility = merged['strategy_return'].std()

print("📈 Strategy Summary:")
print(f"Total Trades: {merged['signal'].abs().sum()}")
print(f"ROI: {roi*100:.2f}%")
print(f"Win Rate: {win_rate*100:.2f}%")
print(f"Average Gain: {avg_profit*100:.2f}%")
print(f"Average Loss: {avg_loss*100:.2f}%")
print(f"Volatility (std): {volatility*100:.2f}%")

# ────────────────────────────────────────────────
# STEP 11: Drawdown & Buy/Hold Comparison
# ────────────────────────────────────────────────

merged['cum_max'] = merged['cumulative_return'].cummax()
merged['drawdown'] = (merged['cumulative_return'] - merged['cum_max']) / merged['cum_max']

plt.figure(figsize=(10,4))
plt.plot(merged['date'], merged['drawdown'], color='red')
plt.title("📉 Strategy Drawdown Over Time")
plt.xlabel("Date")
plt.ylabel("Drawdown (%)")
plt.grid(True)
plt.tight_layout()
plt.show()

merged['buy_hold'] = merged['Close'] / merged['Close'].iloc[0]

plt.figure(figsize=(10,5))
plt.plot(merged['date'], merged['cumulative_return'], label='Strategy', color='green')
plt.plot(merged['date'], merged['buy_hold'], label='Buy & Hold', color='gray', linestyle='--')
plt.title("Strategy vs. Buy & Hold Performance")
plt.xlabel("Date")
plt.ylabel("Cumulative Return")
plt.legend()
plt.grid(True)
plt.tight_layout()
plt.show()

# Export report
report.to_csv("btc_sentiment_strategy_report.csv", index=False)

# Final summary
total_trades = merged['signal'].abs().sum()
wins = (merged['strategy_return'] > 0).sum()
accuracy = wins / total_trades if total_trades > 0 else 0

print("📊 Final Strategy Performance Summary")
print(f"Total Trades: {total_trades}")
print(f"✅ Win Rate: {accuracy * 100:.2f}%")
print(f"💰 ROI: {roi * 100:.2f}%")

// Commit #1 on 2025-01-09 13:12:40

// Commit #2 on 2025-01-09 14:36:23

// Commit #3 on 2025-01-09 11:52:8

// Commit #4 on 2025-01-09 11:0:47

// Commit #5 on 2025-01-09 14:36:41

// Commit #6 on 2025-01-10 19:24:40

// Commit #7 on 2025-01-11 15:53:3

// Commit #8 on 2025-01-12 16:16:26

// Commit #9 on 2025-01-13 18:10:17

// Commit #10 on 2025-01-14 8:48:52

// Commit #11 on 2025-01-14 10:40:28
